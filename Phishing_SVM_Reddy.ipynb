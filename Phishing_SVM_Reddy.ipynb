{
 "cells": [
  {
   "cell_type": "code",
   "execution_count": 3,
   "metadata": {
    "colab": {},
    "colab_type": "code",
    "id": "zhihg4j13v41"
   },
   "outputs": [],
   "source": [
    "import pandas as pd\n",
    "import numpy as np \n",
    "from sklearn.svm import SVC\n",
    "from sklearn.model_selection import train_test_split\n",
    "from sklearn.metrics import accuracy_score\n",
    "\n"
   ]
  },
  {
   "cell_type": "code",
   "execution_count": 4,
   "metadata": {},
   "outputs": [],
   "source": [
    "data = pd.read_csv('./phishing_dataset.csv',names =['Using IP address','Long URL','tiny URL','URL’s having  Symbol','Redirecting using ','Adding Prefix or Suffix Separated by colon to the Domain'\n",
    "                                             ,'Sub Domain and Multi Sub Domains','HTTPS','Domain Registration Length','Favicon','Using Non-Standard Port','HTTPS in domain part','Request URL',\n",
    "                                             'URL of Anchor','Links in Meta','SFH','Submitting info to mail','Abnormal URL','Website Forwarding','Status Bar Custom','Disabling right click',\n",
    "                                              'Using pop up window','IFrame Redirection','Age of Domain','DNS record','Website Record','Page Rank','Google Index','Number of links','Statistical Reports','target'])\n",
    "\n",
    "\n",
    "\n",
    "df = data[['Using IP address','Long URL','tiny URL','URL’s having  Symbol','Redirecting using ','Adding Prefix or Suffix Separated by colon to the Domain'\n",
    "                                             ,'Sub Domain and Multi Sub Domains','HTTPS','Domain Registration Length','Favicon','Using Non-Standard Port','HTTPS in domain part','Request URL',\n",
    "                                             'URL of Anchor','Links in Meta','SFH','Submitting info to mail','Abnormal URL','Website Forwarding','Status Bar Custom','Disabling right click',\n",
    "                                              'Using pop up window','IFrame Redirection','Age of Domain','DNS record','Website Record','Page Rank','Google Index','Number of links','Statistical Reports']]\n",
    "\n",
    "targets = data['target']"
   ]
  },
  {
   "cell_type": "code",
   "execution_count": 5,
   "metadata": {
    "colab": {},
    "colab_type": "code",
    "id": "x_UHfm-q3v44"
   },
   "outputs": [],
   "source": [
    "X_train, X_test, y_train, y_test = train_test_split(\n",
    "         df, targets, test_size=0.2)\n",
    "\n"
   ]
  },
  {
   "cell_type": "code",
   "execution_count": 13,
   "metadata": {
    "colab": {},
    "colab_type": "code",
    "id": "0N89i6Zm3v4_"
   },
   "outputs": [],
   "source": [
    "svm = SVC(kernel='linear', C=0.5)\n",
    "svm.fit(X_train, y_train)\n",
    "\n",
    "y_pred = svm.predict(X_test)\n"
   ]
  },
  {
   "cell_type": "code",
   "execution_count": 14,
   "metadata": {
    "colab": {},
    "colab_type": "code",
    "id": "HJ20UDNQ3v5E",
    "outputId": "ac5e23ae-6a6d-4d56-ec55-4e0cb7a309e5"
   },
   "outputs": [
    {
     "data": {
      "text/plain": [
       "0.9371325192220714"
      ]
     },
     "execution_count": 14,
     "metadata": {},
     "output_type": "execute_result"
    }
   ],
   "source": [
    "Accuracy_Score = accuracy_score(y_test, y_pred)\n",
    "Accuracy_Score"
   ]
  },
  {
   "cell_type": "code",
   "execution_count": 0,
   "metadata": {
    "colab": {},
    "colab_type": "code",
    "id": "8ddLVdaa3v5O"
   },
   "outputs": [],
   "source": []
  }
 ],
 "metadata": {
  "colab": {
   "name": "AISec-Spam-SVM.ipynb",
   "provenance": []
  },
  "kernelspec": {
   "display_name": "Python 3",
   "language": "python",
   "name": "python3"
  },
  "language_info": {
   "codemirror_mode": {
    "name": "ipython",
    "version": 3
   },
   "file_extension": ".py",
   "mimetype": "text/x-python",
   "name": "python",
   "nbconvert_exporter": "python",
   "pygments_lexer": "ipython3",
   "version": "3.7.6"
  }
 },
 "nbformat": 4,
 "nbformat_minor": 1
}
