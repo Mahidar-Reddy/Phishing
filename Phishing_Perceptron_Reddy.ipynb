{
 "cells": [
  {
   "cell_type": "code",
   "execution_count": 4,
   "metadata": {
    "colab": {},
    "colab_type": "code",
    "id": "VX7EB3wv3a28"
   },
   "outputs": [],
   "source": [
    "import pandas as pd\n",
    "import numpy as np\n",
    "from sklearn.linear_model import Perceptron\n",
    "from sklearn.metrics import accuracy_score\n",
    "\n"
   ]
  },
  {
   "cell_type": "code",
   "execution_count": 5,
   "metadata": {},
   "outputs": [
    {
     "data": {
      "text/html": [
       "<div>\n",
       "<style scoped>\n",
       "    .dataframe tbody tr th:only-of-type {\n",
       "        vertical-align: middle;\n",
       "    }\n",
       "\n",
       "    .dataframe tbody tr th {\n",
       "        vertical-align: top;\n",
       "    }\n",
       "\n",
       "    .dataframe thead th {\n",
       "        text-align: right;\n",
       "    }\n",
       "</style>\n",
       "<table border=\"1\" class=\"dataframe\">\n",
       "  <thead>\n",
       "    <tr style=\"text-align: right;\">\n",
       "      <th></th>\n",
       "      <th>Using IP address</th>\n",
       "      <th>Long URL</th>\n",
       "      <th>tiny URL</th>\n",
       "      <th>URL’s having  Symbol</th>\n",
       "      <th>Redirecting using</th>\n",
       "      <th>Adding Prefix or Suffix Separated by colon to the Domain</th>\n",
       "      <th>Sub Domain and Multi Sub Domains</th>\n",
       "      <th>HTTPS</th>\n",
       "      <th>Domain Registration Length</th>\n",
       "      <th>Favicon</th>\n",
       "      <th>...</th>\n",
       "      <th>Using pop up window</th>\n",
       "      <th>IFrame Redirection</th>\n",
       "      <th>Age of Domain</th>\n",
       "      <th>DNS record</th>\n",
       "      <th>Website Record</th>\n",
       "      <th>Page Rank</th>\n",
       "      <th>Google Index</th>\n",
       "      <th>Number of links</th>\n",
       "      <th>Statistical Reports</th>\n",
       "      <th>target</th>\n",
       "    </tr>\n",
       "  </thead>\n",
       "  <tbody>\n",
       "    <tr>\n",
       "      <th>0</th>\n",
       "      <td>-1</td>\n",
       "      <td>1</td>\n",
       "      <td>1</td>\n",
       "      <td>1</td>\n",
       "      <td>-1</td>\n",
       "      <td>-1</td>\n",
       "      <td>-1</td>\n",
       "      <td>-1</td>\n",
       "      <td>-1</td>\n",
       "      <td>1</td>\n",
       "      <td>...</td>\n",
       "      <td>1</td>\n",
       "      <td>1</td>\n",
       "      <td>-1</td>\n",
       "      <td>-1</td>\n",
       "      <td>-1</td>\n",
       "      <td>-1</td>\n",
       "      <td>1</td>\n",
       "      <td>1</td>\n",
       "      <td>-1</td>\n",
       "      <td>-1</td>\n",
       "    </tr>\n",
       "    <tr>\n",
       "      <th>1</th>\n",
       "      <td>1</td>\n",
       "      <td>1</td>\n",
       "      <td>1</td>\n",
       "      <td>1</td>\n",
       "      <td>1</td>\n",
       "      <td>-1</td>\n",
       "      <td>0</td>\n",
       "      <td>1</td>\n",
       "      <td>-1</td>\n",
       "      <td>1</td>\n",
       "      <td>...</td>\n",
       "      <td>1</td>\n",
       "      <td>1</td>\n",
       "      <td>-1</td>\n",
       "      <td>-1</td>\n",
       "      <td>0</td>\n",
       "      <td>-1</td>\n",
       "      <td>1</td>\n",
       "      <td>1</td>\n",
       "      <td>1</td>\n",
       "      <td>-1</td>\n",
       "    </tr>\n",
       "    <tr>\n",
       "      <th>2</th>\n",
       "      <td>1</td>\n",
       "      <td>0</td>\n",
       "      <td>1</td>\n",
       "      <td>1</td>\n",
       "      <td>1</td>\n",
       "      <td>-1</td>\n",
       "      <td>-1</td>\n",
       "      <td>-1</td>\n",
       "      <td>-1</td>\n",
       "      <td>1</td>\n",
       "      <td>...</td>\n",
       "      <td>1</td>\n",
       "      <td>1</td>\n",
       "      <td>1</td>\n",
       "      <td>-1</td>\n",
       "      <td>1</td>\n",
       "      <td>-1</td>\n",
       "      <td>1</td>\n",
       "      <td>0</td>\n",
       "      <td>-1</td>\n",
       "      <td>-1</td>\n",
       "    </tr>\n",
       "    <tr>\n",
       "      <th>3</th>\n",
       "      <td>1</td>\n",
       "      <td>0</td>\n",
       "      <td>1</td>\n",
       "      <td>1</td>\n",
       "      <td>1</td>\n",
       "      <td>-1</td>\n",
       "      <td>-1</td>\n",
       "      <td>-1</td>\n",
       "      <td>1</td>\n",
       "      <td>1</td>\n",
       "      <td>...</td>\n",
       "      <td>1</td>\n",
       "      <td>1</td>\n",
       "      <td>-1</td>\n",
       "      <td>-1</td>\n",
       "      <td>1</td>\n",
       "      <td>-1</td>\n",
       "      <td>1</td>\n",
       "      <td>-1</td>\n",
       "      <td>1</td>\n",
       "      <td>-1</td>\n",
       "    </tr>\n",
       "    <tr>\n",
       "      <th>4</th>\n",
       "      <td>1</td>\n",
       "      <td>0</td>\n",
       "      <td>-1</td>\n",
       "      <td>1</td>\n",
       "      <td>1</td>\n",
       "      <td>-1</td>\n",
       "      <td>1</td>\n",
       "      <td>1</td>\n",
       "      <td>-1</td>\n",
       "      <td>1</td>\n",
       "      <td>...</td>\n",
       "      <td>-1</td>\n",
       "      <td>1</td>\n",
       "      <td>-1</td>\n",
       "      <td>-1</td>\n",
       "      <td>0</td>\n",
       "      <td>-1</td>\n",
       "      <td>1</td>\n",
       "      <td>1</td>\n",
       "      <td>1</td>\n",
       "      <td>1</td>\n",
       "    </tr>\n",
       "  </tbody>\n",
       "</table>\n",
       "<p>5 rows × 31 columns</p>\n",
       "</div>"
      ],
      "text/plain": [
       "   Using IP address  Long URL  tiny URL  URL’s having  Symbol  \\\n",
       "0                -1         1         1                     1   \n",
       "1                 1         1         1                     1   \n",
       "2                 1         0         1                     1   \n",
       "3                 1         0         1                     1   \n",
       "4                 1         0        -1                     1   \n",
       "\n",
       "   Redirecting using   \\\n",
       "0                  -1   \n",
       "1                   1   \n",
       "2                   1   \n",
       "3                   1   \n",
       "4                   1   \n",
       "\n",
       "   Adding Prefix or Suffix Separated by colon to the Domain  \\\n",
       "0                                                 -1          \n",
       "1                                                 -1          \n",
       "2                                                 -1          \n",
       "3                                                 -1          \n",
       "4                                                 -1          \n",
       "\n",
       "   Sub Domain and Multi Sub Domains  HTTPS  Domain Registration Length  \\\n",
       "0                                -1     -1                          -1   \n",
       "1                                 0      1                          -1   \n",
       "2                                -1     -1                          -1   \n",
       "3                                -1     -1                           1   \n",
       "4                                 1      1                          -1   \n",
       "\n",
       "   Favicon  ...  Using pop up window  IFrame Redirection  Age of Domain  \\\n",
       "0        1  ...                    1                   1             -1   \n",
       "1        1  ...                    1                   1             -1   \n",
       "2        1  ...                    1                   1              1   \n",
       "3        1  ...                    1                   1             -1   \n",
       "4        1  ...                   -1                   1             -1   \n",
       "\n",
       "   DNS record  Website Record  Page Rank  Google Index  Number of links  \\\n",
       "0          -1              -1         -1             1                1   \n",
       "1          -1               0         -1             1                1   \n",
       "2          -1               1         -1             1                0   \n",
       "3          -1               1         -1             1               -1   \n",
       "4          -1               0         -1             1                1   \n",
       "\n",
       "   Statistical Reports  target  \n",
       "0                   -1      -1  \n",
       "1                    1      -1  \n",
       "2                   -1      -1  \n",
       "3                    1      -1  \n",
       "4                    1       1  \n",
       "\n",
       "[5 rows x 31 columns]"
      ]
     },
     "execution_count": 5,
     "metadata": {},
     "output_type": "execute_result"
    }
   ],
   "source": [
    "data = pd.read_csv('./phishing_dataset.csv',names =['Using IP address','Long URL','tiny URL','URL’s having  Symbol','Redirecting using ','Adding Prefix or Suffix Separated by colon to the Domain'\n",
    "                                             ,'Sub Domain and Multi Sub Domains','HTTPS','Domain Registration Length','Favicon','Using Non-Standard Port','HTTPS in domain part','Request URL',\n",
    "                                             'URL of Anchor','Links in Meta','SFH','Submitting info to mail','Abnormal URL','Website Forwarding','Status Bar Custom','Disabling right click',\n",
    "                                              'Using pop up window','IFrame Redirection','Age of Domain','DNS record','Website Record','Page Rank','Google Index','Number of links','Statistical Reports','target'])\n",
    "data.head()"
   ]
  },
  {
   "cell_type": "code",
   "execution_count": 6,
   "metadata": {},
   "outputs": [],
   "source": [
    "df = data[['Using IP address','Long URL','tiny URL','URL’s having  Symbol','Redirecting using ','Adding Prefix or Suffix Separated by colon to the Domain'\n",
    "                                             ,'Sub Domain and Multi Sub Domains','HTTPS','Domain Registration Length','Favicon','Using Non-Standard Port','HTTPS in domain part','Request URL',\n",
    "                                             'URL of Anchor','Links in Meta','SFH','Submitting info to mail','Abnormal URL','Website Forwarding','Status Bar Custom','Disabling right click',\n",
    "                                              'Using pop up window','IFrame Redirection','Age of Domain','DNS record','Website Record','Page Rank','Google Index','Number of links','Statistical Reports']]\n",
    "targets = data['target']   # if its -1 it is a phishing website and 1 if it is not"
   ]
  },
  {
   "cell_type": "code",
   "execution_count": 52,
   "metadata": {
    "colab": {},
    "colab_type": "code",
    "id": "pc-S30Bm3a2-"
   },
   "outputs": [],
   "source": [
    "from sklearn.model_selection import train_test_split\n",
    "\n",
    "X_train, X_test, y_train, y_test = train_test_split(\n",
    "         df, targets, test_size=0.2)\n",
    "\n"
   ]
  },
  {
   "cell_type": "code",
   "execution_count": 53,
   "metadata": {
    "colab": {},
    "colab_type": "code",
    "id": "R2dr3V6h3a3B",
    "outputId": "9e2cd3aa-a424-443f-8c89-11113e05a7ae"
   },
   "outputs": [
    {
     "data": {
      "text/plain": [
       "Perceptron(eta0=0.1, max_iter=30)"
      ]
     },
     "execution_count": 53,
     "metadata": {},
     "output_type": "execute_result"
    }
   ],
   "source": [
    "perceptron = Perceptron(max_iter=30, eta0=0.1)\n",
    "perceptron.fit(X_train, y_train)"
   ]
  },
  {
   "cell_type": "code",
   "execution_count": 54,
   "metadata": {
    "colab": {},
    "colab_type": "code",
    "id": "DgW440wg3a3D"
   },
   "outputs": [],
   "source": [
    "y_pred = perceptron.predict(X_test)"
   ]
  },
  {
   "cell_type": "code",
   "execution_count": 55,
   "metadata": {
    "colab": {},
    "colab_type": "code",
    "id": "lEfBW6hs3a3K",
    "outputId": "dce2eef2-925e-41cf-bffa-d1eedfbbb8ca"
   },
   "outputs": [
    {
     "data": {
      "text/plain": [
       "0.911352329262777"
      ]
     },
     "execution_count": 55,
     "metadata": {},
     "output_type": "execute_result"
    }
   ],
   "source": [
    "Accuracy = accuracy_score(y_test, y_pred)\n",
    "Accuracy"
   ]
  }
 ],
 "metadata": {
  "colab": {
   "name": "AISec-Spam-Perceptron.ipynb",
   "provenance": []
  },
  "kernelspec": {
   "display_name": "Python 3",
   "language": "python",
   "name": "python3"
  },
  "language_info": {
   "codemirror_mode": {
    "name": "ipython",
    "version": 3
   },
   "file_extension": ".py",
   "mimetype": "text/x-python",
   "name": "python",
   "nbconvert_exporter": "python",
   "pygments_lexer": "ipython3",
   "version": "3.7.6"
  }
 },
 "nbformat": 4,
 "nbformat_minor": 1
}
